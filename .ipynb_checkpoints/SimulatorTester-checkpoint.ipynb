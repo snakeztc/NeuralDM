{
 "cells": [
  {
   "cell_type": "code",
   "execution_count": 1,
   "metadata": {
    "collapsed": false
   },
   "outputs": [
    {
     "name": "stdout",
     "output_type": "stream",
     "text": [
      "loading model\n",
      "construct meta info for corpus\n",
      "[u'birthplace', u'spouse', u'gender', u'profession', u'birthday', u'deathplace', u'nationality', u'education', u'Types']\n",
      "Done initializing\n"
     ]
    }
   ],
   "source": [
    "from Domains.Simulator20q import Simulator20q\n",
    "from Experiments.online_fqi import run\n",
    "import numpy as np\n",
    "from Representations.ApproxRep import ApproxRep\n",
    "from Representations import Representation"
   ]
  },
  {
   "cell_type": "code",
   "execution_count": 2,
   "metadata": {
    "collapsed": true
   },
   "outputs": [],
   "source": [
    "s = Simulator20q()"
   ]
  },
  {
   "cell_type": "code",
   "execution_count": 6,
   "metadata": {
    "collapsed": false
   },
   "outputs": [
    {
     "name": "stdout",
     "output_type": "stream",
     "text": [
      "{u'birthplace': [u'Ankara'], u'education': [u'Conservatoire de Paris'], u'name': u'\"\\u0130dil Biret\"@en', u'degree': [], u'gender': [u'Female'], u'profession': [u'Pianist'], u'birthday': [u'941-11-21'], u'deathplace': [], u'nationality': [u'Turkey'], u'spouse': [], u'Types': [u'music.group_member', u'people.person', u'music.artist', u'award.award_winner']}\n",
      "(-1.0, array([[ 16.,   0.,   0.,   0.,   0.,   0.,   0.,   0.,   0.,   1.,   0.]]), False)\n",
      "(-1.0, array([[ 16.,   1.,   0.,   0.,   0.,   0.,   0.,   0.,   0.,   2.,   0.]]), False)\n",
      "(10.0, array([[ 16.,   1.,   0.,   0.,   0.,   0.,   0.,   0.,   0.,   3.,   1.]]), True)\n",
      "(-10.0, array([[ 16.,   1.,   0.,  15.,   0.,   0.,   0.,   0.,   0.,   4.,   1.]]), True)\n",
      "(-10.0, array([[ 16.,   1.,   0.,  15.,  56.,   0.,   0.,   0.,   0.,   5.,   1.]]), True)\n",
      "(-10.0, array([[ 16.,   1.,   0.,  15.,  56.,   1.,   0.,   0.,   0.,   6.,   1.]]), True)\n",
      "(-10.0, array([[ 16.,   1.,   0.,  15.,  56.,   1.,   3.,   0.,   0.,   7.,   1.]]), True)\n",
      "(-10.0, array([[ 16.,   1.,   0.,  15.,  56.,   1.,   3.,  47.,   0.,   8.,   1.]]), True)\n",
      "(-10.0, array([[ 16.,   1.,   0.,  15.,  56.,   1.,   3.,  47.,  18.,   9.,   1.]]), True)\n",
      "(10.0, array([[ 16.,   1.,   0.,  15.,  56.,   1.,   3.,  47.,  18.,  10.,   1.]]), True)\n"
     ]
    }
   ],
   "source": [
    "s1 = s.step(s.s0(), 0)\n",
    "s2 = s.step(s1[1], 1)\n",
    "s3 = s.step(s2[1], 9)\n",
    "s4 = s.step(s3[1], 3)\n",
    "s5 = s.step(s4[1], 4)\n",
    "s6 = s.step(s5[1], 5)\n",
    "s7 = s.step(s6[1], 6)\n",
    "s8 = s.step(s7[1], 7)\n",
    "s9 = s.step(s8[1], 8)\n",
    "s10 = s.step(s9[1], 9)\n",
    "print s.person_inmind\n",
    "print s1\n",
    "print s2\n",
    "print s3\n",
    "print s4\n",
    "print s5\n",
    "print s6\n",
    "print s7\n",
    "print s8\n",
    "print s9\n",
    "print s10"
   ]
  },
  {
   "cell_type": "code",
   "execution_count": 36,
   "metadata": {
    "collapsed": false
   },
   "outputs": [
    {
     "data": {
      "text/plain": [
       "array([[  0.,   3.],\n",
       "       [  0.,   3.],\n",
       "       [  0.,   3.],\n",
       "       [  0.,   3.],\n",
       "       [  0.,   3.],\n",
       "       [  0.,   3.],\n",
       "       [  0.,   3.],\n",
       "       [  0.,   3.],\n",
       "       [  0.,   3.],\n",
       "       [  0.,  20.],\n",
       "       [  0.,   1.]])"
      ]
     },
     "execution_count": 36,
     "metadata": {},
     "output_type": "execute_result"
    }
   ],
   "source": [
    "s.statespace_limits"
   ]
  },
  {
   "cell_type": "code",
   "execution_count": null,
   "metadata": {
    "collapsed": false
   },
   "outputs": [],
   "source": [
    "print s.possible_actions()\n",
    "print s.possible_string_actions(s.s0())"
   ]
  },
  {
   "cell_type": "code",
   "execution_count": null,
   "metadata": {
    "collapsed": false
   },
   "outputs": [],
   "source": [
    "representation = ApproxRep(s, seed = 1)\n",
    "representation.phi_s(s5[1])"
   ]
  },
  {
   "cell_type": "code",
   "execution_count": null,
   "metadata": {
    "collapsed": false
   },
   "outputs": [],
   "source": [
    "representation.phi_sa(s5[1], 9)"
   ]
  },
  {
   "cell_type": "code",
   "execution_count": null,
   "metadata": {
    "collapsed": false
   },
   "outputs": [],
   "source": [
    "s.corpus.values()"
   ]
  },
  {
   "cell_type": "code",
   "execution_count": null,
   "metadata": {
    "collapsed": false
   },
   "outputs": [],
   "source": [
    "selected_key = s.corpus.keys()[20]\n",
    "selected_person = s.corpus.get(selected_key)\n",
    "selected_person"
   ]
  },
  {
   "cell_type": "code",
   "execution_count": null,
   "metadata": {
    "collapsed": false
   },
   "outputs": [],
   "source": [
    "print s2[1]\n",
    "Representation.Representation.expand_state_space(s2[1], s.statespace_limits)"
   ]
  },
  {
   "cell_type": "code",
   "execution_count": null,
   "metadata": {
    "collapsed": false
   },
   "outputs": [],
   "source": [
    "np.cumsum(s.statespace_limits[:-1, 1] - s.statespace_limits[:-1, 0])"
   ]
  },
  {
   "cell_type": "code",
   "execution_count": null,
   "metadata": {
    "collapsed": false
   },
   "outputs": [],
   "source": [
    "s.statespace_limits"
   ]
  },
  {
   "cell_type": "code",
   "execution_count": 7,
   "metadata": {
    "collapsed": true
   },
   "outputs": [],
   "source": [
    "X = np.array([[1,0,0,0],[0,1,0,0],[0,0,1,0],[0,1,0,1] ])\n",
    "y = np.array([-1,1,1,-1])"
   ]
  },
  {
   "cell_type": "code",
   "execution_count": 8,
   "metadata": {
    "collapsed": true
   },
   "outputs": [],
   "source": [
    "from sklearn import linear_model"
   ]
  },
  {
   "cell_type": "code",
   "execution_count": 13,
   "metadata": {
    "collapsed": false
   },
   "outputs": [
    {
     "name": "stdout",
     "output_type": "stream",
     "text": [
      "[ 0.00032416 -0.00124409  0.00103699 -0.00195692]\n"
     ]
    }
   ],
   "source": [
    "clf = linear_model.SGDRegressor(alpha=0.01, warm_start=True)\n",
    "clf.fit(X, y)\n",
    "print clf.coef_"
   ]
  },
  {
   "cell_type": "code",
   "execution_count": 11,
   "metadata": {
    "collapsed": false
   },
   "outputs": [
    {
     "data": {
      "text/plain": [
       "array([ 0.00585646,  0.00381801,  0.00594062,  0.00390217])"
      ]
     },
     "execution_count": 11,
     "metadata": {},
     "output_type": "execute_result"
    }
   ],
   "source": [
    "clf.predict(X)"
   ]
  },
  {
   "cell_type": "code",
   "execution_count": null,
   "metadata": {
    "collapsed": true
   },
   "outputs": [],
   "source": []
  }
 ],
 "metadata": {
  "kernelspec": {
   "display_name": "Python 2",
   "language": "python",
   "name": "python2"
  },
  "language_info": {
   "codemirror_mode": {
    "name": "ipython",
    "version": 2
   },
   "file_extension": ".py",
   "mimetype": "text/x-python",
   "name": "python",
   "nbconvert_exporter": "python",
   "pygments_lexer": "ipython2",
   "version": "2.7.11"
  }
 },
 "nbformat": 4,
 "nbformat_minor": 0
}
