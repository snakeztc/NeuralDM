{
 "cells": [
  {
   "cell_type": "code",
   "execution_count": 1,
   "metadata": {
    "collapsed": false
   },
   "outputs": [],
   "source": [
    "import json\n",
    "import re\n",
    "import random"
   ]
  },
  {
   "cell_type": "code",
   "execution_count": 2,
   "metadata": {
    "collapsed": false
   },
   "outputs": [],
   "source": [
    "f = open('../Data/fbdata.json', \"r\")"
   ]
  },
  {
   "cell_type": "code",
   "execution_count": 3,
   "metadata": {
    "collapsed": false
   },
   "outputs": [],
   "source": [
    "fb_corpus = json.load(f)"
   ]
  },
  {
   "cell_type": "code",
   "execution_count": 4,
   "metadata": {
    "collapsed": true
   },
   "outputs": [],
   "source": [
    "f = open('../Data/people.popular.2', 'rb')\n",
    "pop_data = f.readlines()"
   ]
  },
  {
   "cell_type": "code",
   "execution_count": 5,
   "metadata": {
    "collapsed": false
   },
   "outputs": [
    {
     "name": "stdout",
     "output_type": "stream",
     "text": [
      "100\n"
     ]
    }
   ],
   "source": [
    "# create a corpus of the top N person in the freebase\n",
    "random.seed(1)\n",
    "top_n = 100\n",
    "top_list = [unicode(re.split(r'\\t+', pop)[0], 'utf8') for pop in pop_data[0:top_n*1000]]\n",
    "selected_list = random.sample(top_list, top_n*2)\n",
    "used_names = set()\n",
    "top_fb_corpus = {}\n",
    "\n",
    "for key, val in fb_corpus.iteritems():\n",
    "    if val.get(u'name') in selected_list and not val.get(u'name') in used_names:\n",
    "        top_fb_corpus[key] = val\n",
    "        used_names.add(val.get(u'name'))\n",
    "    if len(top_fb_corpus) >= top_n:\n",
    "        break\n",
    "print len(top_fb_corpus)"
   ]
  },
  {
   "cell_type": "code",
   "execution_count": 8,
   "metadata": {
    "collapsed": false
   },
   "outputs": [],
   "source": [
    "# postprocess the people's name so that its just name\n",
    "for key, val in top_fb_corpus.iteritems():\n",
    "    user_name = val.get(u'name')\n",
    "    user_name = re.match(\"\\\"(.*)\\\"@en\", user_name).group(1)\n",
    "    val[u'name'] = user_name"
   ]
  },
  {
   "cell_type": "code",
   "execution_count": 9,
   "metadata": {
    "collapsed": false
   },
   "outputs": [
    {
     "data": {
      "text/plain": [
       "155846"
      ]
     },
     "execution_count": 9,
     "metadata": {},
     "output_type": "execute_result"
    }
   ],
   "source": [
    "len(pop_data)"
   ]
  },
  {
   "cell_type": "markdown",
   "metadata": {},
   "source": [
    "Analysis the top N people a little bit"
   ]
  },
  {
   "cell_type": "code",
   "execution_count": 10,
   "metadata": {
    "collapsed": false
   },
   "outputs": [
    {
     "name": "stdout",
     "output_type": "stream",
     "text": [
      "11 unique fileds\n",
      "\n",
      "[(u'birthplace', 0.67), (u'education', 0.48), (u'name', 1.0), (u'degree', 0.03), (u'gender', 0.81), (u'profession', 1.52), (u'birthday', 0.67), (u'deathplace', 0.14), (u'nationality', 0.62), (u'spouse', 0.6), (u'Types', 4.97)]\n",
      "\n",
      "[(u'birthplace', 64), (u'education', 45), (u'name', 100), (u'degree', 3), (u'gender', 2), (u'profession', 61), (u'birthday', 67), (u'deathplace', 14), (u'nationality', 18), (u'spouse', 52), (u'Types', 83)]\n",
      "\n",
      "[(u'birthplace', 0.33), (u'education', 0.7), (u'name', 0.0), (u'degree', 0.98), (u'gender', 0.19), (u'profession', 0.28), (u'birthday', 0.33), (u'deathplace', 0.86), (u'nationality', 0.38), (u'spouse', 0.78), (u'Types', 0.0)]\n"
     ]
    }
   ],
   "source": [
    "# get all the fileds\n",
    "field_set = set()\n",
    "field_count = {}\n",
    "field_modality = {}\n",
    "empty_cnt = {}\n",
    "for person_key, person_attributes in top_fb_corpus.iteritems():\n",
    "    for field, content in person_attributes.iteritems():\n",
    "        # update count and update modality\n",
    "        moda = field_modality.get(field, set())\n",
    "        cnt = field_count.get(field, 0)\n",
    "        emptyCnt = empty_cnt.get(field,0)\n",
    "        if type(content) is list:\n",
    "            cnt += len(content)\n",
    "            for c in content:\n",
    "                moda.add(c)\n",
    "            if len(content) == 0:\n",
    "                emptyCnt += 1\n",
    "        else:\n",
    "            cnt += 1\n",
    "            moda.add(content)  \n",
    "\n",
    "        # save\n",
    "        field_set.add(field)  \n",
    "        field_count[field] = cnt\n",
    "        field_modality[field] = moda\n",
    "        empty_cnt[field] = emptyCnt\n",
    "print str(len(field_set)) + ' unique fileds'\n",
    "print ''\n",
    "print [(k, v/float(top_n)) for k, v in field_count.iteritems()]\n",
    "print ''\n",
    "print [(k, len(v)) for k, v in field_modality.iteritems()]\n",
    "print ''\n",
    "print [(k, v/float(top_n)) for k, v in empty_cnt.iteritems()]"
   ]
  },
  {
   "cell_type": "markdown",
   "metadata": {},
   "source": [
    "save the top_corpus"
   ]
  },
  {
   "cell_type": "code",
   "execution_count": 13,
   "metadata": {
    "collapsed": false
   },
   "outputs": [],
   "source": [
    "json.dump(top_fb_corpus, open('../Data/top100.json', 'w'))"
   ]
  },
  {
   "cell_type": "code",
   "execution_count": 12,
   "metadata": {
    "collapsed": false
   },
   "outputs": [
    {
     "data": {
      "text/plain": [
       "{u'Adolphe Quetelet',\n",
       " u'Aidan Chambers',\n",
       " u'Alain Pennec',\n",
       " u'American Dog',\n",
       " u'Andreas Kisser',\n",
       " u'Ann Marcus',\n",
       " u'Anquan Boldin',\n",
       " u'Anu Malik',\n",
       " u'Arik Lavie',\n",
       " u'Asami Shimoda',\n",
       " u'Betsie Larkin',\n",
       " u'Big Jay McNeely',\n",
       " u'Bj\\xf6rn Gustafsson',\n",
       " u'Bob Wilson',\n",
       " u'Chiaki Takahashi',\n",
       " u'Chlo\\xe9 Sainte-Marie',\n",
       " u'Chris Carter',\n",
       " u'Cilla Black',\n",
       " u'David Bradley',\n",
       " u'Dee',\n",
       " u'Derek Martin',\n",
       " u'Desiderius Erasmus',\n",
       " u'Donna Leon',\n",
       " u'Doug Sellars',\n",
       " u'Douglas Hill',\n",
       " u'Eliza Coupe',\n",
       " u'Fabrizio De Angelis',\n",
       " u'George Graham',\n",
       " u'George Griffith',\n",
       " u'Gina Thompson',\n",
       " u'Giovanni Stabilini',\n",
       " u'Glenn Beck',\n",
       " u'Guillermo Portabales',\n",
       " u'Gulshan Kumar Mehta',\n",
       " u'Hugh Ford',\n",
       " u'Hussain Kuwajerwala',\n",
       " u'Ian Lithgow',\n",
       " u'Ian Simmonds',\n",
       " u'Irina Konstantinovna Arkhipova',\n",
       " u'Jack Rabbit Slim',\n",
       " u'Jack Scott',\n",
       " u'James Buchanan Eads',\n",
       " u'Jan Chapman',\n",
       " u'Jesus Christ',\n",
       " u'Ji-Tu Cumbuka',\n",
       " u'Jim McGreevey',\n",
       " u'Johann Joachim Winckelmann',\n",
       " u'Jon Wellner',\n",
       " u'Josh G Abrahams',\n",
       " u'June Haver',\n",
       " u'J\\xe9r\\xe9mie Renier',\n",
       " u'Kathryn Williams',\n",
       " u'Kerri Shuman',\n",
       " u'Kieran Culkin',\n",
       " u'Koshi Inaba',\n",
       " u'Leo Davis',\n",
       " u'Liu Ching-chung',\n",
       " u'Louis Dudek',\n",
       " u'Magnus Lindgren',\n",
       " u'Marcus Aurelius',\n",
       " u'Marek Arnold',\n",
       " u'Mark Pritchard',\n",
       " u'Mathias Eick',\n",
       " u'Matt Warburton',\n",
       " u'Michael Powers',\n",
       " u'Mike Howlett',\n",
       " u'Mirja M\\xe4kel\\xe4',\n",
       " u'Monty Alexander',\n",
       " u'Noko',\n",
       " u'Nosaij Thing',\n",
       " u'Paul Levinson',\n",
       " u'Philippa Boyens',\n",
       " u'Pierluigi Castellano',\n",
       " u'R. D. Laing',\n",
       " u'Rajeev Verma',\n",
       " u'Realistic',\n",
       " u'Regard Extr\\xeame',\n",
       " u'Richard Bell',\n",
       " u'Ricky Mabe',\n",
       " u'Robert Odell',\n",
       " u'Roger Limb',\n",
       " u'Rolf Hochhuth',\n",
       " u'Sam Nixon',\n",
       " u'Shaun Rogers',\n",
       " u'Soichi Terada',\n",
       " u'State of Mind',\n",
       " u'Stephen Porter',\n",
       " u'Steve Redgrave',\n",
       " u'Susana Harp',\n",
       " u'Susanna Hietala',\n",
       " u'The Lonesome Organist',\n",
       " u'Thomas Carlyle',\n",
       " u'Ver\\xf4nica Sabino',\n",
       " u'Vuokko Hovatta',\n",
       " u'Wickaman',\n",
       " u'William Grieve',\n",
       " u'William Humphrey',\n",
       " u'William Lyon',\n",
       " u'binary yellow',\n",
       " u'mattip'}"
      ]
     },
     "execution_count": 12,
     "metadata": {},
     "output_type": "execute_result"
    }
   ],
   "source": [
    "field_modality.get('name')"
   ]
  },
  {
   "cell_type": "code",
   "execution_count": null,
   "metadata": {
    "collapsed": false
   },
   "outputs": [],
   "source": []
  },
  {
   "cell_type": "code",
   "execution_count": null,
   "metadata": {
    "collapsed": true
   },
   "outputs": [],
   "source": []
  }
 ],
 "metadata": {
  "kernelspec": {
   "display_name": "Python 2",
   "language": "python",
   "name": "python2"
  },
  "language_info": {
   "codemirror_mode": {
    "name": "ipython",
    "version": 2
   },
   "file_extension": ".py",
   "mimetype": "text/x-python",
   "name": "python",
   "nbconvert_exporter": "python",
   "pygments_lexer": "ipython2",
   "version": "2.7.11"
  }
 },
 "nbformat": 4,
 "nbformat_minor": 0
}
