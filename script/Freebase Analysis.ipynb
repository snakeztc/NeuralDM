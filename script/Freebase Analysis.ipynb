{
 "cells": [
  {
   "cell_type": "code",
   "execution_count": 79,
   "metadata": {
    "collapsed": false
   },
   "outputs": [],
   "source": [
    "import json\n",
    "import re\n",
    "import random"
   ]
  },
  {
   "cell_type": "code",
   "execution_count": 2,
   "metadata": {
    "collapsed": false
   },
   "outputs": [],
   "source": [
    "f = open('../Data/fbdata.json', \"r\")"
   ]
  },
  {
   "cell_type": "code",
   "execution_count": 3,
   "metadata": {
    "collapsed": false
   },
   "outputs": [],
   "source": [
    "fb_corpus = json.load(f)"
   ]
  },
  {
   "cell_type": "code",
   "execution_count": 4,
   "metadata": {
    "collapsed": true
   },
   "outputs": [],
   "source": [
    "f = open('../Data/people.popular.2', 'rb')\n",
    "pop_data = f.readlines()"
   ]
  },
  {
   "cell_type": "code",
   "execution_count": 105,
   "metadata": {
    "collapsed": false
   },
   "outputs": [
    {
     "name": "stdout",
     "output_type": "stream",
     "text": [
      "100\n"
     ]
    }
   ],
   "source": [
    "# create a corpus of the top N person in the freebase\n",
    "random.seed(1)\n",
    "top_n = 100\n",
    "top_list = [unicode(re.split(r'\\t+', pop)[0], 'utf8') for pop in pop_data[0:top_n*1000]]\n",
    "selected_list = random.sample(top_list, top_n*2)\n",
    "used_names = set()\n",
    "top_fb_corpus = {}\n",
    "\n",
    "for key, val in fb_corpus.iteritems():\n",
    "    if val.get(u'name') in selected_list and not val.get(u'name') in used_names:\n",
    "        top_fb_corpus[key] = val\n",
    "        used_names.add(val.get(u'name'))\n",
    "    if len(top_fb_corpus) >= top_n:\n",
    "        break\n",
    "print len(top_fb_corpus)"
   ]
  },
  {
   "cell_type": "code",
   "execution_count": 106,
   "metadata": {
    "collapsed": false
   },
   "outputs": [
    {
     "data": {
      "text/plain": [
       "155846"
      ]
     },
     "execution_count": 106,
     "metadata": {},
     "output_type": "execute_result"
    }
   ],
   "source": [
    "len(pop_data)"
   ]
  },
  {
   "cell_type": "markdown",
   "metadata": {},
   "source": [
    "Analysis the top N people a little bit"
   ]
  },
  {
   "cell_type": "code",
   "execution_count": 107,
   "metadata": {
    "collapsed": false
   },
   "outputs": [
    {
     "name": "stdout",
     "output_type": "stream",
     "text": [
      "11 unique fileds\n",
      "\n",
      "[(u'birthplace', 0.67), (u'education', 0.48), (u'name', 1.0), (u'degree', 0.03), (u'gender', 0.81), (u'profession', 1.52), (u'birthday', 0.67), (u'deathplace', 0.14), (u'nationality', 0.62), (u'spouse', 0.6), (u'Types', 4.97)]\n",
      "\n",
      "[(u'birthplace', 64), (u'education', 45), (u'name', 100), (u'degree', 3), (u'gender', 2), (u'profession', 61), (u'birthday', 67), (u'deathplace', 14), (u'nationality', 18), (u'spouse', 52), (u'Types', 83)]\n",
      "\n",
      "[(u'birthplace', 0.33), (u'education', 0.7), (u'name', 0.0), (u'degree', 0.98), (u'gender', 0.19), (u'profession', 0.28), (u'birthday', 0.33), (u'deathplace', 0.86), (u'nationality', 0.38), (u'spouse', 0.78), (u'Types', 0.0)]\n"
     ]
    }
   ],
   "source": [
    "# get all the fileds\n",
    "field_set = set()\n",
    "field_count = {}\n",
    "field_modality = {}\n",
    "empty_cnt = {}\n",
    "for person_key, person_attributes in top_fb_corpus.iteritems():\n",
    "    for field, content in person_attributes.iteritems():\n",
    "        # update count and update modality\n",
    "        moda = field_modality.get(field, set())\n",
    "        cnt = field_count.get(field, 0)\n",
    "        emptyCnt = empty_cnt.get(field,0)\n",
    "        if type(content) is list:\n",
    "            cnt += len(content)\n",
    "            for c in content:\n",
    "                moda.add(c)\n",
    "            if len(content) == 0:\n",
    "                emptyCnt += 1\n",
    "        else:\n",
    "            cnt += 1\n",
    "            moda.add(content)  \n",
    "\n",
    "        # save\n",
    "        field_set.add(field)  \n",
    "        field_count[field] = cnt\n",
    "        field_modality[field] = moda\n",
    "        empty_cnt[field] = emptyCnt\n",
    "print str(len(field_set)) + ' unique fileds'\n",
    "print ''\n",
    "print [(k, v/float(top_n)) for k, v in field_count.iteritems()]\n",
    "print ''\n",
    "print [(k, len(v)) for k, v in field_modality.iteritems()]\n",
    "print ''\n",
    "print [(k, v/float(top_n)) for k, v in empty_cnt.iteritems()]"
   ]
  },
  {
   "cell_type": "markdown",
   "metadata": {},
   "source": [
    "save the top_corpus"
   ]
  },
  {
   "cell_type": "code",
   "execution_count": 110,
   "metadata": {
    "collapsed": false
   },
   "outputs": [],
   "source": [
    "json.dump(top_fb_corpus, open('../Data/top100.json', 'w'))"
   ]
  },
  {
   "cell_type": "code",
   "execution_count": 109,
   "metadata": {
    "collapsed": false
   },
   "outputs": [
    {
     "data": {
      "text/plain": [
       "{u'Types': 0,\n",
       " u'birthday': 33,\n",
       " u'birthplace': 33,\n",
       " u'deathplace': 86,\n",
       " u'degree': 98,\n",
       " u'education': 70,\n",
       " u'gender': 19,\n",
       " u'name': 0,\n",
       " u'nationality': 38,\n",
       " u'profession': 28,\n",
       " u'spouse': 78}"
      ]
     },
     "execution_count": 109,
     "metadata": {},
     "output_type": "execute_result"
    }
   ],
   "source": [
    "empty_cnt"
   ]
  },
  {
   "cell_type": "code",
   "execution_count": null,
   "metadata": {
    "collapsed": false
   },
   "outputs": [],
   "source": []
  },
  {
   "cell_type": "code",
   "execution_count": null,
   "metadata": {
    "collapsed": true
   },
   "outputs": [],
   "source": []
  }
 ],
 "metadata": {
  "kernelspec": {
   "display_name": "Python 2",
   "language": "python",
   "name": "python2"
  },
  "language_info": {
   "codemirror_mode": {
    "name": "ipython",
    "version": 2
   },
   "file_extension": ".py",
   "mimetype": "text/x-python",
   "name": "python",
   "nbconvert_exporter": "python",
   "pygments_lexer": "ipython2",
   "version": "2.7.11"
  }
 },
 "nbformat": 4,
 "nbformat_minor": 0
}
