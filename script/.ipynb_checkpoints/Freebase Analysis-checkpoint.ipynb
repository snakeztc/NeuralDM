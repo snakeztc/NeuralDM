{
 "cells": [
  {
   "cell_type": "code",
   "execution_count": 79,
   "metadata": {
    "collapsed": false
   },
   "outputs": [],
   "source": [
    "import json\n",
    "import re\n",
    "import random"
   ]
  },
  {
   "cell_type": "code",
   "execution_count": 2,
   "metadata": {
    "collapsed": false
   },
   "outputs": [],
   "source": [
    "f = open('../Data/fbdata.json', \"r\")"
   ]
  },
  {
   "cell_type": "code",
   "execution_count": 3,
   "metadata": {
    "collapsed": false
   },
   "outputs": [],
   "source": [
    "fb_corpus = json.load(f)"
   ]
  },
  {
   "cell_type": "code",
   "execution_count": 4,
   "metadata": {
    "collapsed": true
   },
   "outputs": [],
   "source": [
    "f = open('../Data/people.popular.2', 'rb')\n",
    "pop_data = f.readlines()"
   ]
  },
  {
   "cell_type": "code",
   "execution_count": 102,
   "metadata": {
    "collapsed": false
   },
   "outputs": [
    {
     "name": "stdout",
     "output_type": "stream",
     "text": [
      "100\n"
     ]
    }
   ],
   "source": [
    "# create a corpus of the top N person in the freebase\n",
    "random.seed(1)\n",
    "top_n = 100\n",
    "top_list = [unicode(re.split(r'\\t+', pop)[0], 'utf8') for pop in pop_data[0:top_n*1000]]\n",
    "selected_list = random.sample(top_list, top_n*2)\n",
    "used_names = set()\n",
    "top_fb_corpus = {}\n",
    "\n",
    "for key, val in fb_corpus.iteritems():\n",
    "    if val.get(u'name') in selected_list and not val.get(u'name') in used_names:\n",
    "        top_fb_corpus[key] = val\n",
    "        used_names.add(val.get(u'name'))\n",
    "    if len(top_fb_corpus) >= top_n:\n",
    "        break\n",
    "print len(top_fb_corpus)"
   ]
  },
  {
   "cell_type": "code",
   "execution_count": 103,
   "metadata": {
    "collapsed": false
   },
   "outputs": [
    {
     "data": {
      "text/plain": [
       "155846"
      ]
     },
     "execution_count": 103,
     "metadata": {},
     "output_type": "execute_result"
    }
   ],
   "source": [
    "len(pop_data)"
   ]
  },
  {
   "cell_type": "markdown",
   "metadata": {},
   "source": [
    "Analysis the top N people a little bit"
   ]
  },
  {
   "cell_type": "code",
   "execution_count": 104,
   "metadata": {
    "collapsed": false
   },
   "outputs": [
    {
     "name": "stdout",
     "output_type": "stream",
     "text": [
      "11 unique fileds\n",
      "\n",
      "[(u'birthplace', 0.69), (u'education', 0.33), (u'name', 1.0), (u'degree', 0.02), (u'gender', 0.85), (u'profession', 1.57), (u'birthday', 0.69), (u'deathplace', 0.2), (u'nationality', 0.7), (u'spouse', 0.7), (u'Types', 5.31)]\n",
      "\n",
      "[(u'birthplace', 67), (u'education', 32), (u'name', 100), (u'degree', 2), (u'gender', 2), (u'profession', 60), (u'birthday', 69), (u'deathplace', 19), (u'nationality', 23), (u'spouse', 61), (u'Types', 89)]\n",
      "\n",
      "[(u'birthplace', 0.31), (u'education', 0.78), (u'name', 0.0), (u'degree', 0.99), (u'gender', 0.15), (u'profession', 0.26), (u'birthday', 0.31), (u'deathplace', 0.8), (u'nationality', 0.34), (u'spouse', 0.74), (u'Types', 0.0)]\n"
     ]
    }
   ],
   "source": [
    "# get all the fileds\n",
    "field_set = set()\n",
    "field_count = {}\n",
    "field_modality = {}\n",
    "empty_cnt = {}\n",
    "for person_key, person_attributes in top_fb_corpus.iteritems():\n",
    "    for field, content in person_attributes.iteritems():\n",
    "        # update count and update modality\n",
    "        moda = field_modality.get(field, set())\n",
    "        cnt = field_count.get(field, 0)\n",
    "        emptyCnt = empty_cnt.get(field,0)\n",
    "        if type(content) is list:\n",
    "            cnt += len(content)\n",
    "            for c in content:\n",
    "                moda.add(c)\n",
    "            if len(content) == 0:\n",
    "                emptyCnt += 1\n",
    "        else:\n",
    "            cnt += 1\n",
    "            moda.add(content)  \n",
    "\n",
    "        # save\n",
    "        field_set.add(field)  \n",
    "        field_count[field] = cnt\n",
    "        field_modality[field] = moda\n",
    "        empty_cnt[field] = emptyCnt\n",
    "print str(len(field_set)) + ' unique fileds'\n",
    "print ''\n",
    "print [(k, v/float(top_n)) for k, v in field_count.iteritems()]\n",
    "print ''\n",
    "print [(k, len(v)) for k, v in field_modality.iteritems()]\n",
    "print ''\n",
    "print [(k, v/float(top_n)) for k, v in empty_cnt.iteritems()]"
   ]
  },
  {
   "cell_type": "markdown",
   "metadata": {},
   "source": [
    "save the top_corpus"
   ]
  },
  {
   "cell_type": "code",
   "execution_count": 93,
   "metadata": {
    "collapsed": false
   },
   "outputs": [],
   "source": [
    "json.dump(top_fb_corpus, open('../Data/top100.json', 'w'))"
   ]
  },
  {
   "cell_type": "code",
   "execution_count": 92,
   "metadata": {
    "collapsed": false
   },
   "outputs": [
    {
     "data": {
      "text/plain": [
       "{u'\"3 Minute Tantra\"@en',\n",
       " u'\"Abigail Savage\"@en',\n",
       " u'\"Adam Federici\"@en',\n",
       " u'\"Adriana Evans\"@en',\n",
       " u'\"Alan Wilson\"@en',\n",
       " u'\"Alex D\\xe9sert\"@en',\n",
       " u'\"Andrew Ford\"@en',\n",
       " u'\"Anquan Boldin\"@en',\n",
       " u'\"Austin Roberts\"@en',\n",
       " u'\"Baby Washington\"@en',\n",
       " u'\"Barbara Bates\"@en',\n",
       " u'\"Ben Roberts\"@en',\n",
       " u'\"Bernard Slade\"@en',\n",
       " u'\"Bill Janovitz\"@en',\n",
       " u'\"Brendan James\"@en',\n",
       " u'\"Bryan Maclean\"@en',\n",
       " u'\"Charles Wilson\"@en',\n",
       " u'\"Craig Pruess\"@en',\n",
       " u'\"Damo Suzuki\"@en',\n",
       " u'\"Dan Seals\"@en',\n",
       " u'\"David Evans\"@en',\n",
       " u'\"David Miller\"@en',\n",
       " u'\"David Nail\"@en',\n",
       " u'\"David Rubin\"@en',\n",
       " u'\"David Stern\"@en',\n",
       " u'\"David Walker\"@en',\n",
       " u'\"Dennis Lee\"@en',\n",
       " u'\"Dick Lowry\"@en',\n",
       " u'\"Don Houghton\"@en',\n",
       " u'\"Duran Duran Duran\"@en',\n",
       " u'\"Dustin Miller\"@en',\n",
       " u'\"Emily Browning\"@en',\n",
       " u'\"Eric Stough\"@en',\n",
       " u'\"Genevi\\xe8ve Wa\\xefte\"@en',\n",
       " u'\"George Gray\"@en',\n",
       " u'\"George Wallace\"@en',\n",
       " u'\"Hafez\"@en',\n",
       " u'\"Hariharan\"@en',\n",
       " u'\"Haruko Momoi\"@en',\n",
       " u'\"Howard Green\"@en',\n",
       " u'\"Hyper\"@en',\n",
       " u'\"Jake Richardson\"@en',\n",
       " u'\"James Ehnes\"@en',\n",
       " u'\"James Johnston\"@en',\n",
       " u'\"James McBride\"@en',\n",
       " u'\"Jamie Scott\"@en',\n",
       " u'\"Jane Alexander\"@en',\n",
       " u'\"Jay Nash\"@en',\n",
       " u'\"Jeff Anderson\"@en',\n",
       " u'\"Jerry Adelman\"@en',\n",
       " u'\"Jerry Granelli\"@en',\n",
       " u'\"Jim Fitzpatrick\"@en',\n",
       " u'\"Joe Wilson\"@en',\n",
       " u'\"John Barton\"@en',\n",
       " u'\"John Davies\"@en',\n",
       " u'\"John Leipold\"@en',\n",
       " u'\"John Lucarotti\"@en',\n",
       " u'\"John Paxton\"@en',\n",
       " u'\"John Ross\"@en',\n",
       " u'\"John Scott\"@en',\n",
       " u'\"John Waters\"@en',\n",
       " u'\"Jon Larsen\"@en',\n",
       " u'\"Juliane Banse\"@en',\n",
       " u'\"J\\xe1nos Kende\"@en',\n",
       " u'\"Kristen Miller\"@en',\n",
       " u'\"Latifa\"@en',\n",
       " u'\"Lee Wilson\"@en',\n",
       " u'\"Lloyd Bridges\"@en',\n",
       " u'\"Mahatma Gandhi\"@en',\n",
       " u'\"Mark Foster\"@en',\n",
       " u'\"Mark Keali\\'i Ho\\'omalu\"@en',\n",
       " u'\"Mark O\\'Hare\"@en',\n",
       " u'\"Mark Rae\"@en',\n",
       " u'\"Marlyn Mason\"@en',\n",
       " u'\"Michael Bond\"@en',\n",
       " u'\"Michael Hayes\"@en',\n",
       " u'\"Mikhail Glinka\"@en',\n",
       " u'\"Nikhil\"@en',\n",
       " u'\"Olov Johansson\"@en',\n",
       " u'\"Para One\"@en',\n",
       " u'\"Patrick Mower\"@en',\n",
       " u'\"Paul Daneman\"@en',\n",
       " u'\"Peter Scott\"@en',\n",
       " u'\"Randall Wallace\"@en',\n",
       " u'\"Richard Wells\"@en',\n",
       " u'\"Robert Lord\"@en',\n",
       " u'\"Robert Morrison MacIver\"@en',\n",
       " u'\"Saint Dominic\"@en',\n",
       " u'\"Sally Grindley\"@en',\n",
       " u'\"Salvador Domingo Felipe Jacinto Dal\\xed i Dom\\xe8nech\"@en',\n",
       " u'\"Sebastian Arnold\"@en',\n",
       " u'\"Sepharial\"@en',\n",
       " u'\"Steve King\"@en',\n",
       " u'\"Tang Wei\"@en',\n",
       " u'\"Tess\"@en',\n",
       " u'\"Tom Ford\"@en',\n",
       " u'\"Tom Smith\"@en',\n",
       " u'\"Toshi\"@en',\n",
       " u'\"Wayne Robson\"@en',\n",
       " u'\"\\u7d17\\u5e0c\"@en'}"
      ]
     },
     "execution_count": 92,
     "metadata": {},
     "output_type": "execute_result"
    }
   ],
   "source": [
    "field_modality.get('name')"
   ]
  },
  {
   "cell_type": "code",
   "execution_count": null,
   "metadata": {
    "collapsed": false
   },
   "outputs": [],
   "source": []
  },
  {
   "cell_type": "code",
   "execution_count": null,
   "metadata": {
    "collapsed": true
   },
   "outputs": [],
   "source": []
  }
 ],
 "metadata": {
  "kernelspec": {
   "display_name": "Python 2",
   "language": "python",
   "name": "python2"
  },
  "language_info": {
   "codemirror_mode": {
    "name": "ipython",
    "version": 2
   },
   "file_extension": ".py",
   "mimetype": "text/x-python",
   "name": "python",
   "nbconvert_exporter": "python",
   "pygments_lexer": "ipython2",
   "version": "2.7.11"
  }
 },
 "nbformat": 4,
 "nbformat_minor": 0
}
