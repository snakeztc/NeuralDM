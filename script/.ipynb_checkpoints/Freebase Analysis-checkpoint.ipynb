{
 "cells": [
  {
   "cell_type": "code",
   "execution_count": 4,
   "metadata": {
    "collapsed": true
   },
   "outputs": [],
   "source": [
    "import json\n",
    "import re"
   ]
  },
  {
   "cell_type": "code",
   "execution_count": 5,
   "metadata": {
    "collapsed": false
   },
   "outputs": [],
   "source": [
    "f = open('./data/fbdata.json', \"r\")"
   ]
  },
  {
   "cell_type": "code",
   "execution_count": 6,
   "metadata": {
    "collapsed": false
   },
   "outputs": [],
   "source": [
    "fb_corpus = json.load(f)"
   ]
  },
  {
   "cell_type": "code",
   "execution_count": 8,
   "metadata": {
    "collapsed": true
   },
   "outputs": [],
   "source": [
    "f = open('./data/people.popular.2', 'rb')\n",
    "pop_data = f.readlines()"
   ]
  },
  {
   "cell_type": "code",
   "execution_count": 19,
   "metadata": {
    "collapsed": false
   },
   "outputs": [
    {
     "name": "stdout",
     "output_type": "stream",
     "text": [
      "100\n"
     ]
    }
   ],
   "source": [
    "# create a corpus of the top N person in the freebase\n",
    "top_n = 100\n",
    "top_list = [unicode(re.split(r'\\t+', pop)[0], 'utf8') for pop in pop_data[0:top_n*10]]\n",
    "used_names = set()\n",
    "top_fb_corpus = {}\n",
    "\n",
    "for key, val in fb_corpus.iteritems():\n",
    "    if val.get(u'name') in top_list and val.get(u'name') not in used_names:\n",
    "        top_fb_corpus[key] = val\n",
    "        used_names.add(val.get(u'name'))\n",
    "    if len(top_fb_corpus) >= top_n:\n",
    "        break\n",
    "print len(top_fb_corpus)"
   ]
  },
  {
   "cell_type": "markdown",
   "metadata": {},
   "source": [
    "Analysis the top N people a little bit"
   ]
  },
  {
   "cell_type": "code",
   "execution_count": 20,
   "metadata": {
    "collapsed": false
   },
   "outputs": [
    {
     "name": "stdout",
     "output_type": "stream",
     "text": [
      "11 unique fileds\n",
      "\n",
      "[(u'birthplace', 0.64), (u'education', 0.58), (u'name', 1.0), (u'degree', 0.0), (u'gender', 0.8), (u'profession', 2.61), (u'birthday', 0.69), (u'deathplace', 0.28), (u'nationality', 0.71), (u'spouse', 1.32), (u'Types', 9.59)]\n",
      "\n",
      "[(u'birthplace', 60), (u'education', 55), (u'name', 83), (u'degree', 0), (u'gender', 2), (u'profession', 65), (u'birthday', 69), (u'deathplace', 24), (u'nationality', 19), (u'spouse', 103), (u'Types', 96)]\n"
     ]
    }
   ],
   "source": [
    "# get all the fileds\n",
    "field_set = set()\n",
    "field_count = {}\n",
    "field_modality = {}\n",
    "for key, value in top_fb_corpus.iteritems():\n",
    "    for field, content in value.iteritems():\n",
    "        # update count and update modality\n",
    "        moda = field_modality.get(field, set())\n",
    "        if type(content) is list:\n",
    "            cnt = field_count.get(field, 0) + len(content)\n",
    "            for c in content:\n",
    "                moda.add(c)\n",
    "        else:\n",
    "            cnt = field_count.get(field, 0) + 1\n",
    "            moda.add(c)  \n",
    "        # save\n",
    "        field_set.add(field)  \n",
    "        field_count[field] = cnt\n",
    "        field_modality[field] = moda\n",
    "print str(len(field_set)) + ' unique fileds'\n",
    "print ''\n",
    "print [(k, v/float(100)) for k, v in field_count.iteritems()]\n",
    "print ''\n",
    "print [(k, len(v)) for k, v in field_modality.iteritems()]"
   ]
  },
  {
   "cell_type": "markdown",
   "metadata": {},
   "source": [
    "save the top_corpus"
   ]
  },
  {
   "cell_type": "code",
   "execution_count": 21,
   "metadata": {
    "collapsed": false
   },
   "outputs": [],
   "source": [
    "json.dump(top_fb_corpus, open('./data/top100.json', 'w'))"
   ]
  },
  {
   "cell_type": "code",
   "execution_count": 1,
   "metadata": {
    "collapsed": false
   },
   "outputs": [
    {
     "ename": "NameError",
     "evalue": "name 'field_modality' is not defined",
     "output_type": "error",
     "traceback": [
      "\u001b[0;31m---------------------------------------------------------------------------\u001b[0m",
      "\u001b[0;31mNameError\u001b[0m                                 Traceback (most recent call last)",
      "\u001b[0;32m<ipython-input-1-5cbd23e3b888>\u001b[0m in \u001b[0;36m<module>\u001b[0;34m()\u001b[0m\n\u001b[0;32m----> 1\u001b[0;31m \u001b[0;34m[\u001b[0m\u001b[0mlist\u001b[0m\u001b[0;34m(\u001b[0m\u001b[0mv\u001b[0m\u001b[0;34m)\u001b[0m \u001b[0;32mfor\u001b[0m \u001b[0mk\u001b[0m\u001b[0;34m,\u001b[0m \u001b[0mv\u001b[0m \u001b[0;32min\u001b[0m \u001b[0mfield_modality\u001b[0m\u001b[0;34m.\u001b[0m\u001b[0miteritems\u001b[0m\u001b[0;34m(\u001b[0m\u001b[0;34m)\u001b[0m\u001b[0;34m]\u001b[0m\u001b[0;34m\u001b[0m\u001b[0m\n\u001b[0m",
      "\u001b[0;31mNameError\u001b[0m: name 'field_modality' is not defined"
     ]
    }
   ],
   "source": [
    "[list(v) for k, v in field_modality.iteritems()]"
   ]
  },
  {
   "cell_type": "code",
   "execution_count": 2,
   "metadata": {
    "collapsed": false
   },
   "outputs": [],
   "source": [
    "import sys\n",
    "sys.path.insert(0, r'../')"
   ]
  },
  {
   "cell_type": "code",
   "execution_count": 1,
   "metadata": {
    "collapsed": false
   },
   "outputs": [
    {
     "name": "stdout",
     "output_type": "stream",
     "text": [
      "loading model\n",
      "construct meta info for corpus\n",
      "[u\"What is this person's birthplace?\", u\"What is this person's spouse?\", u\"What is this person's gender?\", u\"What is this person's profession?\", u\"What is this person's birthday?\", u\"What is this person's deathplace?\", u\"What is this person's nationality?\", u\"What is this person's education?\", u\"What is this person's types?\", u'I guess this person is Camille Saint-Sa\\xebns']\n",
      "(['UNKNOWN', None, None, None, None, None, None, None, None, None, None, 1], -1.0, False)\n",
      "(['UNKNOWN', None, 'UNKNOWN', None, None, None, None, None, None, None, None, 2], -1.0, False)\n",
      "loading model\n",
      "construct meta info for corpus\n",
      "{u'birthplace': [u'Moscow'], u'education': [u'Moscow Conservatory'], u'name': u'\"Alexander Scriabin\"@en', u'degree': [], u'gender': [u'Male'], u'profession': [u'Pianist', u'Composer'], u'birthday': [u'872-01-06'], u'deathplace': [u'Moscow'], u'nationality': [u'Russia'], u'spouse': [], u'Types': [u'music.artist', u'music.group_member', u'film.music_contributor', u'music.lyricist', u'book.author', u'music.composer', u'influence.influence_node', u'people.deceased_person', u'book.book_subject', u'people.person']}\n",
      "(['UNKNOWN', None, None, None, None, None, None, None, None, None, None, 1], -1.0, False)\n",
      "(['UNKNOWN', 'UNKNOWN', None, None, None, None, None, None, None, None, None, 2], -1.0, False)\n",
      "(['UNKNOWN', 'UNKNOWN', 'UNKNOWN', None, None, None, None, None, None, None, None, 3], -1.0, False)\n",
      "(['UNKNOWN', 'UNKNOWN', 'UNKNOWN', 'UNKNOWN', None, None, None, None, None, None, None, 4], -1.0, False)\n",
      "(['UNKNOWN', 'UNKNOWN', 'UNKNOWN', 'UNKNOWN', 'UNKNOWN', None, None, None, None, None, None, 5], -1.0, False)\n",
      "(['UNKNOWN', 'UNKNOWN', 'UNKNOWN', 'UNKNOWN', 'UNKNOWN', 'UNKNOWN', None, None, None, None, None, 6], -1.0, False)\n",
      "(['UNKNOWN', 'UNKNOWN', 'UNKNOWN', 'UNKNOWN', 'UNKNOWN', 'UNKNOWN', 'UNKNOWN', None, None, None, None, 7], -1.0, False)\n",
      "(['UNKNOWN', 'UNKNOWN', 'UNKNOWN', 'UNKNOWN', 'UNKNOWN', 'UNKNOWN', 'UNKNOWN', 'UNKNOWN', None, None, None, 8], -1.0, False)\n",
      "(['UNKNOWN', 'UNKNOWN', 'UNKNOWN', 'UNKNOWN', 'UNKNOWN', 'UNKNOWN', 'UNKNOWN', 'UNKNOWN', 'UNKNOWN', None, None, 9], -1.0, False)\n",
      "(['UNKNOWN', 'UNKNOWN', 'UNKNOWN', 'UNKNOWN', 'UNKNOWN', 'UNKNOWN', 'UNKNOWN', 'UNKNOWN', 'UNKNOWN', None, None, 9], -1.0, False)\n"
     ]
    }
   ],
   "source": [
    "from Experi\n",
    "x = Sim20q()\n",
    "print x.user_person\n",
    "print x.run(u\"What is this person's birthplace?\")\n",
    "print x.run(u\"What is this person's spouse?\")\n",
    "print x.run(u\"What is this person's gender?\")\n",
    "print x.run(u\"What is this person's profession?\")\n",
    "print x.run(u\"What is this person's birthday?\")\n",
    "print x.run(u\"What is this person's deathplace?\")\n",
    "print x.run(u\"What is this person's nationality?\")\n",
    "print x.run(u\"What is this person's education?\")\n",
    "print x.run(u\"What is this person's types?\")\n",
    "print x.run(x.get_inform()[0])\n"
   ]
  },
  {
   "cell_type": "code",
   "execution_count": 4,
   "metadata": {
    "collapsed": false,
    "scrolled": true
   },
   "outputs": [
    {
     "name": "stdout",
     "output_type": "stream",
     "text": [
      "[0, 1, 4, 5, 6, 7, 8, 9, 10]\n",
      "[u'birthplace', u'spouse', u'name', u'degree', u'gender', u'profession', u'birthday', u'deathplace', u'nationality', u'education', u'Types']\n"
     ]
    }
   ],
   "source": [
    "print x.question_index\n",
    "print x.fields"
   ]
  },
  {
   "cell_type": "code",
   "execution_count": 3,
   "metadata": {
    "collapsed": false
   },
   "outputs": [
    {
     "name": "stdout",
     "output_type": "stream",
     "text": [
      "set([u'm.07k63v', u'm.018gqj', u'm.017kq', u'm.01bpc9', u'm.015882', u'm.021ch2', u'm.0161sp', u'm.0g824', u'm.01q810', u'm.01jmzyr', u'm.07d3x'])\n",
      "\n",
      "set([u'm.01ws2g5', u'm.01mr8n', u'm.01mpq7s', u'm.015882', u'm.0x3b7'])\n",
      "\n",
      "set([u'm.021ch2', u'm.07k63v', u'm.015882', u'm.0g824'])\n"
     ]
    }
   ],
   "source": [
    "print x.search([(u'Types', u'award.award_nominee'), (u'Types', u'book.author')])\n",
    "print ''\n",
    "print x.search([(u'gender', 'Female'),(u'profession', u'Songwriter')])\n",
    "print ''\n",
    "print x.search([(u'Types', u'award.award_nominee'), (u'Types', u'book.author'), (u'gender', u'Female')])"
   ]
  },
  {
   "cell_type": "code",
   "execution_count": 5,
   "metadata": {
    "collapsed": false
   },
   "outputs": [
    {
     "ename": "TypeError",
     "evalue": "replace() takes at least 2 arguments (1 given)",
     "output_type": "error",
     "traceback": [
      "\u001b[0;31m---------------------------------------------------------------------------\u001b[0m",
      "\u001b[0;31mTypeError\u001b[0m                                 Traceback (most recent call last)",
      "\u001b[0;32m<ipython-input-5-006a50fe6768>\u001b[0m in \u001b[0;36m<module>\u001b[0;34m()\u001b[0m\n\u001b[0;32m----> 1\u001b[0;31m \u001b[0mx\u001b[0m\u001b[0;34m.\u001b[0m\u001b[0mavaliable_actions\u001b[0m\u001b[0;34m(\u001b[0m\u001b[0;34m)\u001b[0m\u001b[0;34m\u001b[0m\u001b[0m\n\u001b[0m",
      "\u001b[0;32m/Users/Tony/Dropbox/CMU_MLT/DialPort/NeuralDM/sim20q.py\u001b[0m in \u001b[0;36mavaliable_actions\u001b[0;34m(self, binary)\u001b[0m\n\u001b[1;32m     36\u001b[0m         \u001b[0minform\u001b[0m \u001b[0;34m=\u001b[0m \u001b[0;34m[\u001b[0m\u001b[0;34m]\u001b[0m\u001b[0;34m\u001b[0m\u001b[0m\n\u001b[1;32m     37\u001b[0m         \u001b[0;32mfor\u001b[0m \u001b[0mperson\u001b[0m \u001b[0;32min\u001b[0m \u001b[0mself\u001b[0m\u001b[0;34m.\u001b[0m\u001b[0mcorpus\u001b[0m\u001b[0;34m.\u001b[0m\u001b[0mvalues\u001b[0m\u001b[0;34m(\u001b[0m\u001b[0;34m)\u001b[0m\u001b[0;34m:\u001b[0m\u001b[0;34m\u001b[0m\u001b[0m\n\u001b[0;32m---> 38\u001b[0;31m             \u001b[0mname\u001b[0m \u001b[0;34m=\u001b[0m \u001b[0mperson\u001b[0m\u001b[0;34m.\u001b[0m\u001b[0mget\u001b[0m\u001b[0;34m(\u001b[0m\u001b[0;34mu'name'\u001b[0m\u001b[0;34m)\u001b[0m\u001b[0;34m.\u001b[0m\u001b[0mreplace\u001b[0m\u001b[0;34m(\u001b[0m\u001b[0;34m'@en'\u001b[0m\u001b[0;34m,\u001b[0m \u001b[0;34m''\u001b[0m\u001b[0;34m)\u001b[0m\u001b[0;34m.\u001b[0m\u001b[0mreplace\u001b[0m\u001b[0;34m(\u001b[0m\u001b[0;34m\"\\\\\"\u001b[0m\u001b[0;34m\", \"\u001b[0m\u001b[0;34m)\u001b[0m\u001b[0;34m\u001b[0m\u001b[0m\n\u001b[0m\u001b[1;32m     39\u001b[0m             \u001b[0minform\u001b[0m\u001b[0;34m.\u001b[0m\u001b[0mappend\u001b[0m\u001b[0;34m(\u001b[0m\u001b[0;34m\"I guess this person is \"\u001b[0m \u001b[0;34m+\u001b[0m \u001b[0mperson\u001b[0m\u001b[0;34m.\u001b[0m\u001b[0mget\u001b[0m\u001b[0;34m(\u001b[0m\u001b[0;34mu'name'\u001b[0m\u001b[0;34m)\u001b[0m\u001b[0;34m)\u001b[0m\u001b[0;34m\u001b[0m\u001b[0m\n\u001b[1;32m     40\u001b[0m \u001b[0;34m\u001b[0m\u001b[0m\n",
      "\u001b[0;31mTypeError\u001b[0m: replace() takes at least 2 arguments (1 given)"
     ]
    }
   ],
   "source": []
  },
  {
   "cell_type": "code",
   "execution_count": 6,
   "metadata": {
    "collapsed": false
   },
   "outputs": [
    {
     "data": {
      "text/plain": [
       "1"
      ]
     },
     "execution_count": 6,
     "metadata": {},
     "output_type": "execute_result"
    }
   ],
   "source": [
    "import random\n",
    "random.choice([1])"
   ]
  },
  {
   "cell_type": "code",
   "execution_count": 16,
   "metadata": {
    "collapsed": false
   },
   "outputs": [
    {
     "name": "stdout",
     "output_type": "stream",
     "text": [
      "2\n"
     ]
    }
   ],
   "source": []
  },
  {
   "cell_type": "code",
   "execution_count": 19,
   "metadata": {
    "collapsed": false
   },
   "outputs": [
    {
     "data": {
      "text/plain": [
       "['ok',\n",
       " 'ok',\n",
       " 'ok',\n",
       " 'ok',\n",
       " 'ok',\n",
       " 'ok',\n",
       " 'ok',\n",
       " 'ok',\n",
       " 'ok',\n",
       " 'ok',\n",
       " 'ok',\n",
       " 'ok',\n",
       " 'ok',\n",
       " 'ok',\n",
       " 'ok',\n",
       " 'ok',\n",
       " 'ok',\n",
       " 'ok',\n",
       " 'ok',\n",
       " 'ok']"
      ]
     },
     "execution_count": 19,
     "metadata": {},
     "output_type": "execute_result"
    }
   ],
   "source": []
  },
  {
   "cell_type": "code",
   "execution_count": null,
   "metadata": {
    "collapsed": true
   },
   "outputs": [],
   "source": []
  }
 ],
 "metadata": {
  "kernelspec": {
   "display_name": "Python 2",
   "language": "python",
   "name": "python2"
  },
  "language_info": {
   "codemirror_mode": {
    "name": "ipython",
    "version": 2
   },
   "file_extension": ".py",
   "mimetype": "text/x-python",
   "name": "python",
   "nbconvert_exporter": "python",
   "pygments_lexer": "ipython2",
   "version": "2.7.11"
  }
 },
 "nbformat": 4,
 "nbformat_minor": 0
}
