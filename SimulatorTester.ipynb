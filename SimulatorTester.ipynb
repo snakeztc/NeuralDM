{
 "cells": [
  {
   "cell_type": "code",
   "execution_count": 1,
   "metadata": {
    "collapsed": false
   },
   "outputs": [
    {
     "name": "stdout",
     "output_type": "stream",
     "text": [
      "loading model\n",
      "construct meta info for corpus\n",
      "Done initializing\n"
     ]
    }
   ],
   "source": [
    "from Domains.Simulator20q import Simulator20q\n",
    "import numpy as np"
   ]
  },
  {
   "cell_type": "code",
   "execution_count": 2,
   "metadata": {
    "collapsed": true
   },
   "outputs": [],
   "source": [
    "s = Simulator20q()"
   ]
  },
  {
   "cell_type": "code",
   "execution_count": 3,
   "metadata": {
    "collapsed": false
   },
   "outputs": [
    {
     "name": "stdout",
     "output_type": "stream",
     "text": [
      "(-1.0, [None, 'UNKNOWN', None, None, None, None, None, None, None, 1, 0], False)\n",
      "(-1.0, [None, 'UNKNOWN', u'Male', None, None, None, None, None, None, 2, 0], False)\n",
      "(-1.0, [None, 'UNKNOWN', u'Male', u'Actor', None, None, None, None, None, 3, 0], False)\n",
      "(-10.0, [None, 'UNKNOWN', u'Male', u'Actor', None, None, None, None, None, 4, 1], True)\n"
     ]
    }
   ],
   "source": [
    "s1 = s.step(s.s0(), 1)\n",
    "s2 = s.step(s1[1], 2)\n",
    "s3 = s.step(s2[1], 3)\n",
    "s4 = s.step(s3[1], 9)\n",
    "print s1\n",
    "print s2\n",
    "print s3\n",
    "print s4"
   ]
  },
  {
   "cell_type": "code",
   "execution_count": 4,
   "metadata": {
    "collapsed": false
   },
   "outputs": [
    {
     "name": "stdout",
     "output_type": "stream",
     "text": [
      "[0 1 2 3 4 5 6 7 8 9]\n",
      "[u\"What is this person's birthplace?\", u\"What is this person's spouse?\", u\"What is this person's gender?\", u\"What is this person's profession?\", u\"What is this person's birthday?\", u\"What is this person's deathplace?\", u\"What is this person's nationality?\", u\"What is this person's education?\", u\"What is this person's types?\", u'I guess this person is Michael Giacchino']\n"
     ]
    }
   ],
   "source": [
    "print s.possible_actions()\n",
    "print s.possible_string_actions(s.s0())"
   ]
  },
  {
   "cell_type": "code",
   "execution_count": 5,
   "metadata": {
    "collapsed": false
   },
   "outputs": [
    {
     "name": "stdout",
     "output_type": "stream",
     "text": [
      "[[   0.   62.]\n",
      " [   0.   57.]\n",
      " [   0.  102.]\n",
      " [   0.    2.]\n",
      " [   0.    4.]\n",
      " [   0.   67.]\n",
      " [   0.   71.]\n",
      " [   0.   26.]\n",
      " [   0.   21.]\n",
      " [   0.   20.]\n",
      " [   0.    1.]]\n",
      "{u'birthplace': 60, u'education': 55, u'name': 100, u'degree': 0, u'gender': 2, u'profession': 65, u'birthday': 69, u'deathplace': 24, u'nationality': 19, u'spouse': 103, u'Types': 96}\n",
      "149800234671360\n"
     ]
    }
   ],
   "source": [
    "print s.statespace_limits\n",
    "print s.field_dim\n",
    "print s.states_num"
   ]
  },
  {
   "cell_type": "code",
   "execution_count": 6,
   "metadata": {
    "collapsed": false
   },
   "outputs": [
    {
     "data": {
      "text/plain": [
       "array([  62.,   57.,  102.,    2.,    4.,   67.,   71.,   26.,   21.,\n",
       "         20.,    1.])"
      ]
     },
     "execution_count": 6,
     "metadata": {},
     "output_type": "execute_result"
    }
   ],
   "source": []
  },
  {
   "cell_type": "code",
   "execution_count": null,
   "metadata": {
    "collapsed": true
   },
   "outputs": [],
   "source": []
  }
 ],
 "metadata": {
  "kernelspec": {
   "display_name": "Python 2",
   "language": "python",
   "name": "python2"
  },
  "language_info": {
   "codemirror_mode": {
    "name": "ipython",
    "version": 2
   },
   "file_extension": ".py",
   "mimetype": "text/x-python",
   "name": "python",
   "nbconvert_exporter": "python",
   "pygments_lexer": "ipython2",
   "version": "2.7.11"
  }
 },
 "nbformat": 4,
 "nbformat_minor": 0
}
